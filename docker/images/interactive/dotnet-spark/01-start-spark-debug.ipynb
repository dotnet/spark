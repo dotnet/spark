{
 "cells": [
  {
   "cell_type": "markdown",
   "metadata": {},
   "source": [
    "# Start .NET for Apache Spark in Debug mode\n",
    "\n",

    "Please run the cell below, before executing any .NET for Apache Spark code in a separate interactive .NET notebook.\n",
    "\n",
    "It will (after copying over the microsoft-spark JAR file) start the .NET for Apache Spark DotnetBackend in debug mode, using the current directory.\n",
    "This has the benefit of being able to directly use any files (e.g. for import) located in this folder, without the need to specify the absolute path."
   ]
  },
  {
   "cell_type": "code",
   "execution_count": null,
   "metadata": {},
   "outputs": [
    {
     "name": "stdout",
     "output_type": "stream",
     "text": [
     ]
    }
   ],
   "source": [
    "! start-spark-debug.sh"
   ]
  }
 ],
 "metadata": {
  "kernelspec": {
   "display_name": "Python 3",
   "language": "python",
   "name": "python3"
  },
  "language_info": {
   "codemirror_mode": {
    "name": "ipython",
    "version": 3
   },
   "file_extension": ".py",
   "mimetype": "text/x-python",
   "name": "python",
   "nbconvert_exporter": "python",
   "pygments_lexer": "ipython3",
   "version": "3.7.6"
  }
 },
 "nbformat": 4,
 "nbformat_minor": 4
}
